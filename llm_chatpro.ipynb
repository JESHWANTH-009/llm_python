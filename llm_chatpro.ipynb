{
 "cells": [
  {
   "cell_type": "code",
   "execution_count": 25,
   "id": "13e5f062",
   "metadata": {},
   "outputs": [],
   "source": [
    "import os\n",
    "from dotenv import load_dotenv, find_dotenv\n",
    "\n",
    "load_dotenv(find_dotenv())\n",
    "\n",
    "api_key = os.getenv(\"OPENAI_API_KEY\")\n",
    "#print(\"Loaded key:\", api_key[:10], \"...\" if api_key else \"❌ Not loaded\")\n",
    "\n",
    "\n"
   ]
  },
  {
   "cell_type": "code",
   "execution_count": 26,
   "id": "e3d4677d",
   "metadata": {},
   "outputs": [
    {
     "name": "stdout",
     "output_type": "stream",
     "text": [
      "✅ Response:\n",
      " A web server and an application server are two distinct types of servers that play important roles in the delivery of content over the internet, but they serve different purposes and handle different types of applications.\n",
      "\n",
      "1. Web Server:\n",
      "A web server is a software that delivers (serves) web pages, including HTML pages, images, style sheets, and other resources, in response to HTTP requests from client web browsers. It typically handles static content such as images, HTML files, CSS files, JavaScript files, etc. It also processes the web traffic and helps to make sure that web pages are delivered in an efficient and secure manner. Examples of web servers include Apache, Nginx, Microsoft's Internet Information Services (IIS), and Google's Web Server.\n",
      "\n",
      "2. Application Server:\n",
      "On the other hand, an application server goes beyond the capabilities of a web server by providing additional services to execute, manage, and integrate complex, dynamic, and business applications. Application servers offer a platform where multiple applications can run, handling database connectivity, session management, and business logic functions. They allow developers to build and deploy enterprise-level applications, such as online banking, e-commerce, and content management systems. Examples of application servers include Apache Tomcat, Java EE Application Server, JBoss, and Microsoft's .NET framework (IIS with ASP.NET).\n",
      "\n",
      "In summary, you can think of a web server as the deliveryman (or woman) that brings the content created by web developers to the user's web browser, while an application server is the platform that allows the creation and operation of complex, dynamic applications. A web server and an application server can sometimes work together within a web application architecture, with the application server communicating with the database, and the web server acting as the gateway between the application server and the user's web browser.\n"
     ]
    }
   ],
   "source": [
    "import os\n",
    "from openai import OpenAI\n",
    "from dotenv import load_dotenv, find_dotenv\n",
    "\n",
    "load_dotenv(find_dotenv())\n",
    "\n",
    "client = OpenAI(\n",
    "    api_key=os.getenv(\"OPENAI_API_KEY\"),\n",
    "    base_url=\"https://openrouter.ai/api/v1\"\n",
    ")\n",
    "\n",
    "response = client.chat.completions.create(\n",
    "    model=\"mistralai/mistral-7b-instruct\",  # ✅ Correct and available model\n",
    "    messages=[\n",
    "        {\"role\": \"system\", \"content\": \"You are a helpful assistant.\"},\n",
    "        {\"role\": \"user\", \"content\": \"Explain the difference between a web server and an application server.\"}\n",
    "    ]\n",
    ")\n",
    "\n",
    "print(\"✅ Response:\\n\", response.choices[0].message.content.strip())\n"
   ]
  },
  {
   "cell_type": "code",
   "execution_count": 27,
   "id": "f09e1de5",
   "metadata": {},
   "outputs": [],
   "source": [
    "fact_sheet_chair = \"\"\"\n",
    "OVERVIEW\n",
    "- Part of a beautiful family of mid-century inspired office furniture, \n",
    "including filing cabinets, desks, bookcases, meeting tables, and more.\n",
    "- Several options of shell color and base finishes.\n",
    "- Available with plastic back and front upholstery (SWC-100) \n",
    "or full upholstery (SWC-110) in 10 fabric and 6 leather options.\n",
    "- Base finish options are: stainless steel, matte black, \n",
    "gloss white, or chrome.\n",
    "- Chair is available with or without armrests.\n",
    "- Suitable for home or business settings.\n",
    "- Qualified for contract use.\n",
    "\n",
    "CONSTRUCTION\n",
    "- 5-wheel plastic coated aluminum base.\n",
    "- Pneumatic chair adjust for easy raise/lower action.\n",
    "\n",
    "DIMENSIONS\n",
    "- WIDTH 53 CM | 20.87”\n",
    "- DEPTH 51 CM | 20.08”\n",
    "- HEIGHT 80 CM | 31.50”\n",
    "- SEAT HEIGHT 44 CM | 17.32”\n",
    "- SEAT DEPTH 41 CM | 16.14”\n",
    "\n",
    "OPTIONS\n",
    "- Soft or hard-floor caster options.\n",
    "- Two choices of seat foam densities: \n",
    " medium (1.8 lb/ft3) or high (2.8 lb/ft3)\n",
    "- Armless or 8 position PU armrests \n",
    "\n",
    "MATERIALS\n",
    "SHELL BASE GLIDER\n",
    "- Cast Aluminum with modified nylon PA6/PA66 coating.\n",
    "- Shell thickness: 10 mm.\n",
    "SEAT\n",
    "- HD36 foam\n",
    "\n",
    "COUNTRY OF ORIGIN\n",
    "- Italy\n",
    "\"\"\""
   ]
  },
  {
   "cell_type": "code",
   "execution_count": 28,
   "id": "951d0281",
   "metadata": {},
   "outputs": [],
   "source": [
    "def get_completion(prompt, model=\"mistralai/mistral-7b-instruct\"):\n",
    "    response = client.chat.completions.create(\n",
    "        model=model,\n",
    "        messages=[{\"role\": \"user\", \"content\": prompt}],\n",
    "    )\n",
    "    return response.choices[0].message.content.strip()\n"
   ]
  },
  {
   "cell_type": "code",
   "execution_count": 29,
   "id": "c0b7dddc",
   "metadata": {},
   "outputs": [],
   "source": [
    "prompt = f\"\"\"\n",
    "Your task is to help a marketing team create a \n",
    "description for a retail website of a product based \n",
    "on a technical fact sheet.\n",
    "\n",
    "Write a product description based on the information \n",
    "provided in the technical specifications delimited by \n",
    "triple backticks.\n",
    "\n",
    "Technical specifications: ```{fact_sheet_chair}```\n",
    "\"\"\"\n"
   ]
  },
  {
   "cell_type": "code",
   "execution_count": 30,
   "id": "6887aa7f",
   "metadata": {},
   "outputs": [
    {
     "name": "stdout",
     "output_type": "stream",
     "text": [
      "A web server and an application server are two distinct types of servers that play important roles in the delivery of content over the internet, but they serve different purposes and handle different types of applications.\n",
      "\n",
      "1. Web Server:\n",
      "A web server is a software that delivers (serves) web pages, including HTML pages, images, style sheets, and other resources, in response to HTTP requests from client web browsers. It typically handles static content such as images, HTML files, CSS files, JavaScript files, etc. It also processes the web traffic and helps to make sure that web pages are delivered in an efficient and secure manner. Examples of web servers include Apache, Nginx, Microsoft's Internet Information Services (IIS), and Google's Web Server.\n",
      "\n",
      "2. Application Server:\n",
      "On the other hand, an application server goes beyond the capabilities of a web server by providing additional services to execute, manage, and integrate complex, dynamic, and business applications. Application servers offer a platform where multiple applications can run, handling database connectivity, session management, and business logic functions. They allow developers to build and deploy enterprise-level applications, such as online banking, e-commerce, and content management systems. Examples of application servers include Apache Tomcat, Java EE Application Server, JBoss, and Microsoft's .NET framework (IIS with ASP.NET).\n",
      "\n",
      "In summary, you can think of a web server as the deliveryman (or woman) that brings the content created by web developers to the user's web browser, while an application server is the platform that allows the creation and operation of complex, dynamic applications. A web server and an application server can sometimes work together within a web application architecture, with the application server communicating with the database, and the web server acting as the gateway between the application server and the user's web browser.\n"
     ]
    }
   ],
   "source": [
    "\n",
    "print(response.choices[0].message.content.strip())\n"
   ]
  },
  {
   "cell_type": "code",
   "execution_count": 31,
   "id": "5d7fc2dd",
   "metadata": {},
   "outputs": [],
   "source": [
    "from IPython.display import display, HTML"
   ]
  },
  {
   "cell_type": "code",
   "execution_count": 32,
   "id": "753f2c68",
   "metadata": {},
   "outputs": [
    {
     "name": "stdout",
     "output_type": "stream",
     "text": [
      "<div>\n",
      "  Introducing the SWC-100/110, a stunning addition to our mid-century inspired office furniture collection. This versatile chair is available in a variety of shell colors and base finishes, making it a perfect fit for both home and business settings.\n",
      "\n",
      "Choose between plastic back and front upholstery (SWC-100) or full upholstery (SWC-110) in a selection of 10 fabric and 6 leather options. The base finish options include stainless steel, matte black, gloss white, or chrome. Whether you prefer a chair with or without armrests, we have you covered.\n",
      "\n",
      "Constructed with a 5-wheel plastic coated aluminum base, this chair offers easy maneuverability. The pneumatic design ensures effortless height adjustment.\n",
      "\n",
      "For added versatility, opt for soft or hard-floor caster options, and select either medium (1.8 lb/ft3) or high (2.8 lb/ft3) seat foam densities. You can also choose between armless and 8 position PU armrests.\n",
      "\n",
      "The SWC-100/110 is crafted with a Cast Aluminum with a modified nylon PA6/PA66 coating for the shell base and glider, ensuring durability and style.\n",
      "\n",
      "Proudly designed and manufactured in Italy, this chair is qualified for contract use.\n",
      "</div>\n",
      "\n",
      "<table>\n",
      "  <thead>\n",
      "    <tr>\n",
      "      <th>Dimension</th>\n",
      "      <th>Measurements (inches)</th>\n",
      "    </tr>\n",
      "  </thead>\n",
      "  <tbody>\n",
      "    <tr>\n",
      "      <td>Width</td>\n",
      "      <td>20.87”</td>\n",
      "    </tr>\n",
      "    <tr>\n",
      "      <td>Depth</td>\n",
      "      <td>20.08”</td>\n",
      "    </tr>\n",
      "    <tr>\n",
      "      <td>Height</td>\n",
      "      <td>31.50”</td>\n",
      "    </tr>\n",
      "    <tr>\n",
      "      <td>Seat Height</td>\n",
      "      <td>17.32”</td>\n",
      "    </tr>\n",
      "    <tr>\n",
      "      <td>Seat Depth</td>\n",
      "      <td>16.14”</td>\n",
      "    </tr>\n",
      "  </tbody>\n",
      "</table>\n"
     ]
    },
    {
     "data": {
      "text/html": [
       "<div>\n",
       "  Introducing the SWC-100/110, a stunning addition to our mid-century inspired office furniture collection. This versatile chair is available in a variety of shell colors and base finishes, making it a perfect fit for both home and business settings.\n",
       "\n",
       "Choose between plastic back and front upholstery (SWC-100) or full upholstery (SWC-110) in a selection of 10 fabric and 6 leather options. The base finish options include stainless steel, matte black, gloss white, or chrome. Whether you prefer a chair with or without armrests, we have you covered.\n",
       "\n",
       "Constructed with a 5-wheel plastic coated aluminum base, this chair offers easy maneuverability. The pneumatic design ensures effortless height adjustment.\n",
       "\n",
       "For added versatility, opt for soft or hard-floor caster options, and select either medium (1.8 lb/ft3) or high (2.8 lb/ft3) seat foam densities. You can also choose between armless and 8 position PU armrests.\n",
       "\n",
       "The SWC-100/110 is crafted with a Cast Aluminum with a modified nylon PA6/PA66 coating for the shell base and glider, ensuring durability and style.\n",
       "\n",
       "Proudly designed and manufactured in Italy, this chair is qualified for contract use.\n",
       "</div>\n",
       "\n",
       "<table>\n",
       "  <thead>\n",
       "    <tr>\n",
       "      <th>Dimension</th>\n",
       "      <th>Measurements (inches)</th>\n",
       "    </tr>\n",
       "  </thead>\n",
       "  <tbody>\n",
       "    <tr>\n",
       "      <td>Width</td>\n",
       "      <td>20.87”</td>\n",
       "    </tr>\n",
       "    <tr>\n",
       "      <td>Depth</td>\n",
       "      <td>20.08”</td>\n",
       "    </tr>\n",
       "    <tr>\n",
       "      <td>Height</td>\n",
       "      <td>31.50”</td>\n",
       "    </tr>\n",
       "    <tr>\n",
       "      <td>Seat Height</td>\n",
       "      <td>17.32”</td>\n",
       "    </tr>\n",
       "    <tr>\n",
       "      <td>Seat Depth</td>\n",
       "      <td>16.14”</td>\n",
       "    </tr>\n",
       "  </tbody>\n",
       "</table>"
      ],
      "text/plain": [
       "<IPython.core.display.HTML object>"
      ]
     },
     "metadata": {},
     "output_type": "display_data"
    }
   ],
   "source": [
    "prompt = f\"\"\"\n",
    "Your task is to help a marketing team create a \n",
    "description for a retail website of a product based \n",
    "on a technical fact sheet.\n",
    "\n",
    "Write a product description based on the information \n",
    "provided in the technical specifications delimited by \n",
    "triple backticks.\n",
    "\n",
    "The description is intended for furniture retailers, \n",
    "so should be technical in nature and focus on the \n",
    "materials the product is constructed from.\n",
    "\n",
    "At the end of the description, include every 7-character \n",
    "Product ID in the technical specification.\n",
    "\n",
    "After the description, include a table that gives the \n",
    "product's dimensions. The table should have two columns.\n",
    "In the first column include the name of the dimension. \n",
    "In the second column include the measurements in inches only.\n",
    "\n",
    "Give the table the title 'Product Dimensions'.\n",
    "\n",
    "Format everything as HTML that can be used in a website. \n",
    "Place the description in a <div> element.\n",
    "\n",
    "Technical specifications: ```{fact_sheet_chair}```\n",
    "\"\"\"\n",
    "\n",
    "response = get_completion(prompt)\n",
    "print(response)\n",
    "display(HTML(response))"
   ]
  },
  {
   "cell_type": "code",
   "execution_count": null,
   "id": "7e5d9ae3",
   "metadata": {},
   "outputs": [
    {
     "name": "stdout",
     "output_type": "stream",
     "text": [
      "\"New noise-cancelling headset offers excellent sound quality, long-lasting battery, and comfortable design; however, occasional Bluetooth disconnection during movement noted.\"\n"
     ]
    }
   ],
   "source": [
    "prod_review = \"\"\"\n",
    "I bought this noise-canceling headset a week ago, and it's been fantastic so far. The sound quality is crisp, the battery lasts for days, and it's super comfortable. The only downside is the Bluetooth occasionally disconnects when I'm walking around. Still, I would highly recommend it to anyone looking for a great wireless headset.\n",
    "\"\"\"\n",
    "\n",
    "prompt = f\"\"\"\n",
    "Your task is to generate a short summary of a product \\\n",
    "review from an ecommerce site. \n",
    "\n",
    "Summarize the review below, delimited by triple \n",
    "backticks, in at most 30 words. \n",
    "\n",
    "Review: ```{prod_review}```\n",
    "\"\"\"\n",
    "\n",
    "response = get_completion(prompt)\n",
    "print(response)\n"
   ]
  }
 ],
 "metadata": {
  "kernelspec": {
   "display_name": "base",
   "language": "python",
   "name": "python3"
  },
  "language_info": {
   "codemirror_mode": {
    "name": "ipython",
    "version": 3
   },
   "file_extension": ".py",
   "mimetype": "text/x-python",
   "name": "python",
   "nbconvert_exporter": "python",
   "pygments_lexer": "ipython3",
   "version": "3.12.7"
  }
 },
 "nbformat": 4,
 "nbformat_minor": 5
}
